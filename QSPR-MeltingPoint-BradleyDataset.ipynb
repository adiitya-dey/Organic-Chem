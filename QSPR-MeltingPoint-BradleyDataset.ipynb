{
 "cells": [
  {
   "cell_type": "markdown",
   "id": "745ea299",
   "metadata": {},
   "source": [
    "# PREDICTION OF MELTING POINTS OF ORGANIC MOLECULES"
   ]
  },
  {
   "cell_type": "markdown",
   "id": "78823166",
   "metadata": {},
   "source": [
    "This notebook deals with Prediction of Melting Points of organic molecular crystals that comprise of single molecule. The smiles have been extracted from  <a href=\"https://figshare.com/articles/dataset/Jean_Claude_Bradley_Open_Melting_Point_Datset/1031637\">Professor Jean Claude Bradley Dataset</a> which comprises of ~28000 organic molecules and their Melting Points in deg Celcius. Below steps have been performed to filter information.\n",
    "- should only contain single molecule.\n",
    "- non-ionic \\ no conjugate form allowed.\n",
    "- All compounds with donotuse marked as 'x' have been eliminated.\n",
    "- Atoms that are part of molecule must have Carbon mandatory and can include F, Cl, Br and Iodine(Halogens).\n",
    "\n",
    "**Note - The Jean Claud Bradley Dataset is an open-source dataset. Hence if you utilize his work, make sure to give him your due acknowledgement. This notebook is free for usage.**"
   ]
  },
  {
   "cell_type": "markdown",
   "id": "370c7346",
   "metadata": {},
   "source": [
    "## Table of Contents\n",
    "* [Chapter 1: Extraction of Molecule Descriptors](#chapter1)\n",
    "    * [Section 1.1: Description of Features](#section_1_1)\n",
    "    * [Section 1.2: Molecule Features required for Validation](#section_1_2)\n",
    "        * [Sub Section 2.1.1](#sub_section_2_1_1)\n",
    "        * [Sub Section 2.1.2](#sub_section_2_1_2)\n",
    "    * [Section 2.2](#section_2_2)\n",
    "        * [Sub Section 2.2.1](#sub_section_2_2_1)\n",
    "        * [Sub Section 2.2.2](#sub_section_2_2_2)\n",
    "* [Chapter 3](#chapter3)\n",
    "    * [Section 3.1](#section_3_1)\n",
    "        * [Sub Section 3.1.1](#sub_section_3_1_1)\n",
    "        * [Sub Section 3.1.2](#sub_section_3_1_2)\n",
    "    * [Section 3.2](#section_3_2)\n",
    "        * [Sub Section 3.2.1](#sub_section_3_2_1)\n",
    "        * [Sub Section 3.2.2](#sub_section_3_2_2)"
   ]
  },
  {
   "cell_type": "markdown",
   "id": "852d1377",
   "metadata": {},
   "source": [
    "## Chapter 1: Extraction of Molecule Descriptors <a class=\"anchor\" id=\"chapter1\"></a>"
   ]
  },
  {
   "cell_type": "code",
   "execution_count": 4,
   "id": "3fc6d57a",
   "metadata": {},
   "outputs": [],
   "source": [
    "import pandas as pd\n",
    "import numpy as np\n",
    "import os"
   ]
  },
  {
   "cell_type": "code",
   "execution_count": 6,
   "id": "403ff972",
   "metadata": {},
   "outputs": [
    {
     "name": "stdout",
     "output_type": "stream",
     "text": [
      "Shape : (28645, 8)\n"
     ]
    }
   ],
   "source": [
    "bradley_df = pd.read_csv(\"csv/BradleyMeltingPointDataset.csv\")\n",
    "bradley_df.set_index(\"key\", inplace=True)\n",
    "print(f'Shape : {bradley_df.shape}')"
   ]
  },
  {
   "cell_type": "code",
   "execution_count": 7,
   "id": "32bdb73d",
   "metadata": {},
   "outputs": [
    {
     "name": "stdout",
     "output_type": "stream",
     "text": [
      "Usable Shape: (28268, 8).\n",
      "# of rows removed : 377\n"
     ]
    },
    {
     "data": {
      "text/html": [
       "<div>\n",
       "<style scoped>\n",
       "    .dataframe tbody tr th:only-of-type {\n",
       "        vertical-align: middle;\n",
       "    }\n",
       "\n",
       "    .dataframe tbody tr th {\n",
       "        vertical-align: top;\n",
       "    }\n",
       "\n",
       "    .dataframe thead th {\n",
       "        text-align: right;\n",
       "    }\n",
       "</style>\n",
       "<table border=\"1\" class=\"dataframe\">\n",
       "  <thead>\n",
       "    <tr style=\"text-align: right;\">\n",
       "      <th></th>\n",
       "      <th>name</th>\n",
       "      <th>smiles</th>\n",
       "      <th>mpC</th>\n",
       "      <th>csid</th>\n",
       "      <th>link</th>\n",
       "      <th>source</th>\n",
       "      <th>donotuse</th>\n",
       "      <th>donotusebecause</th>\n",
       "    </tr>\n",
       "    <tr>\n",
       "      <th>key</th>\n",
       "      <th></th>\n",
       "      <th></th>\n",
       "      <th></th>\n",
       "      <th></th>\n",
       "      <th></th>\n",
       "      <th></th>\n",
       "      <th></th>\n",
       "      <th></th>\n",
       "    </tr>\n",
       "  </thead>\n",
       "  <tbody>\n",
       "    <tr>\n",
       "      <th>1</th>\n",
       "      <td>2-(2,4-dinitrobenzyl)pyridine</td>\n",
       "      <td>c1ccnc(c1)Cc2ccc(cc2[N+](=O)[O-])[N+](=O)[O-]</td>\n",
       "      <td>92.0</td>\n",
       "      <td>64018</td>\n",
       "      <td>http://www.alfa.com/en/GP100W.pgm?DSSTK=B24192</td>\n",
       "      <td>Alfa Aesar</td>\n",
       "      <td>NaN</td>\n",
       "      <td>NaN</td>\n",
       "    </tr>\n",
       "    <tr>\n",
       "      <th>2</th>\n",
       "      <td>2-(1-piperidinyl)aniline</td>\n",
       "      <td>c1ccc(c(c1)N)N2CCCCC2</td>\n",
       "      <td>46.0</td>\n",
       "      <td>403764</td>\n",
       "      <td>http://www.alfa.com/en/GP100W.pgm?DSSTK=A13073</td>\n",
       "      <td>Alfa Aesar</td>\n",
       "      <td>NaN</td>\n",
       "      <td>NaN</td>\n",
       "    </tr>\n",
       "    <tr>\n",
       "      <th>3</th>\n",
       "      <td>2-(1-piperazinyl)pyrimidine</td>\n",
       "      <td>c1cnc(nc1)N2CCNCC2</td>\n",
       "      <td>33.0</td>\n",
       "      <td>80080</td>\n",
       "      <td>http://www.alfa.com/en/GP100W.pgm?DSSTK=L15884</td>\n",
       "      <td>Alfa Aesar</td>\n",
       "      <td>NaN</td>\n",
       "      <td>NaN</td>\n",
       "    </tr>\n",
       "    <tr>\n",
       "      <th>4</th>\n",
       "      <td>2-(1-piperazinyl)phenol</td>\n",
       "      <td>c1ccc(c(c1)N2CCNCC2)O</td>\n",
       "      <td>125.0</td>\n",
       "      <td>63701</td>\n",
       "      <td>http://www.alfa.com/en/GP100W.pgm?DSSTK=B20252</td>\n",
       "      <td>Alfa Aesar</td>\n",
       "      <td>NaN</td>\n",
       "      <td>NaN</td>\n",
       "    </tr>\n",
       "    <tr>\n",
       "      <th>5</th>\n",
       "      <td>2-(1-cyclohexenyl)ethylamine</td>\n",
       "      <td>C1CCC(=CC1)CCN</td>\n",
       "      <td>-55.0</td>\n",
       "      <td>69388</td>\n",
       "      <td>http://www.alfa.com/en/GP100W.pgm?DSSTK=L08261</td>\n",
       "      <td>Alfa Aesar</td>\n",
       "      <td>NaN</td>\n",
       "      <td>NaN</td>\n",
       "    </tr>\n",
       "  </tbody>\n",
       "</table>\n",
       "</div>"
      ],
      "text/plain": [
       "                              name  \\\n",
       "key                                  \n",
       "1    2-(2,4-dinitrobenzyl)pyridine   \n",
       "2         2-(1-piperidinyl)aniline   \n",
       "3      2-(1-piperazinyl)pyrimidine   \n",
       "4          2-(1-piperazinyl)phenol   \n",
       "5     2-(1-cyclohexenyl)ethylamine   \n",
       "\n",
       "                                            smiles    mpC    csid  \\\n",
       "key                                                                 \n",
       "1    c1ccnc(c1)Cc2ccc(cc2[N+](=O)[O-])[N+](=O)[O-]   92.0   64018   \n",
       "2                            c1ccc(c(c1)N)N2CCCCC2   46.0  403764   \n",
       "3                               c1cnc(nc1)N2CCNCC2   33.0   80080   \n",
       "4                            c1ccc(c(c1)N2CCNCC2)O  125.0   63701   \n",
       "5                                   C1CCC(=CC1)CCN  -55.0   69388   \n",
       "\n",
       "                                               link      source donotuse  \\\n",
       "key                                                                        \n",
       "1    http://www.alfa.com/en/GP100W.pgm?DSSTK=B24192  Alfa Aesar      NaN   \n",
       "2    http://www.alfa.com/en/GP100W.pgm?DSSTK=A13073  Alfa Aesar      NaN   \n",
       "3    http://www.alfa.com/en/GP100W.pgm?DSSTK=L15884  Alfa Aesar      NaN   \n",
       "4    http://www.alfa.com/en/GP100W.pgm?DSSTK=B20252  Alfa Aesar      NaN   \n",
       "5    http://www.alfa.com/en/GP100W.pgm?DSSTK=L08261  Alfa Aesar      NaN   \n",
       "\n",
       "    donotusebecause  \n",
       "key                  \n",
       "1               NaN  \n",
       "2               NaN  \n",
       "3               NaN  \n",
       "4               NaN  \n",
       "5               NaN  "
      ]
     },
     "execution_count": 7,
     "metadata": {},
     "output_type": "execute_result"
    }
   ],
   "source": [
    "# Eliminate molecules marked as donotuse.\n",
    "bradley_use_df = bradley_df.query(\"donotuse != 'x'\")\n",
    "print(f'Usable Shape: {bradley_use_df.shape}.\\n# of rows removed : {bradley_df.shape[0] - bradley_use_df.shape[0]}')\n",
    "bradley_use_df.head(5)"
   ]
  },
  {
   "cell_type": "code",
   "execution_count": 10,
   "id": "60302439",
   "metadata": {},
   "outputs": [
    {
     "name": "stdout",
     "output_type": "stream",
     "text": [
      "Shape : (28268, 5)\n"
     ]
    },
    {
     "data": {
      "text/html": [
       "<div>\n",
       "<style scoped>\n",
       "    .dataframe tbody tr th:only-of-type {\n",
       "        vertical-align: middle;\n",
       "    }\n",
       "\n",
       "    .dataframe tbody tr th {\n",
       "        vertical-align: top;\n",
       "    }\n",
       "\n",
       "    .dataframe thead th {\n",
       "        text-align: right;\n",
       "    }\n",
       "</style>\n",
       "<table border=\"1\" class=\"dataframe\">\n",
       "  <thead>\n",
       "    <tr style=\"text-align: right;\">\n",
       "      <th></th>\n",
       "      <th>name</th>\n",
       "      <th>smiles</th>\n",
       "      <th>csid</th>\n",
       "      <th>mpC</th>\n",
       "      <th>Temperature_K</th>\n",
       "    </tr>\n",
       "    <tr>\n",
       "      <th>key</th>\n",
       "      <th></th>\n",
       "      <th></th>\n",
       "      <th></th>\n",
       "      <th></th>\n",
       "      <th></th>\n",
       "    </tr>\n",
       "  </thead>\n",
       "  <tbody>\n",
       "    <tr>\n",
       "      <th>1</th>\n",
       "      <td>2-(2,4-dinitrobenzyl)pyridine</td>\n",
       "      <td>c1ccnc(c1)Cc2ccc(cc2[N+](=O)[O-])[N+](=O)[O-]</td>\n",
       "      <td>64018</td>\n",
       "      <td>92.0</td>\n",
       "      <td>365.0</td>\n",
       "    </tr>\n",
       "    <tr>\n",
       "      <th>2</th>\n",
       "      <td>2-(1-piperidinyl)aniline</td>\n",
       "      <td>c1ccc(c(c1)N)N2CCCCC2</td>\n",
       "      <td>403764</td>\n",
       "      <td>46.0</td>\n",
       "      <td>319.0</td>\n",
       "    </tr>\n",
       "    <tr>\n",
       "      <th>3</th>\n",
       "      <td>2-(1-piperazinyl)pyrimidine</td>\n",
       "      <td>c1cnc(nc1)N2CCNCC2</td>\n",
       "      <td>80080</td>\n",
       "      <td>33.0</td>\n",
       "      <td>306.0</td>\n",
       "    </tr>\n",
       "    <tr>\n",
       "      <th>4</th>\n",
       "      <td>2-(1-piperazinyl)phenol</td>\n",
       "      <td>c1ccc(c(c1)N2CCNCC2)O</td>\n",
       "      <td>63701</td>\n",
       "      <td>125.0</td>\n",
       "      <td>398.0</td>\n",
       "    </tr>\n",
       "    <tr>\n",
       "      <th>5</th>\n",
       "      <td>2-(1-cyclohexenyl)ethylamine</td>\n",
       "      <td>C1CCC(=CC1)CCN</td>\n",
       "      <td>69388</td>\n",
       "      <td>-55.0</td>\n",
       "      <td>218.0</td>\n",
       "    </tr>\n",
       "  </tbody>\n",
       "</table>\n",
       "</div>"
      ],
      "text/plain": [
       "                              name  \\\n",
       "key                                  \n",
       "1    2-(2,4-dinitrobenzyl)pyridine   \n",
       "2         2-(1-piperidinyl)aniline   \n",
       "3      2-(1-piperazinyl)pyrimidine   \n",
       "4          2-(1-piperazinyl)phenol   \n",
       "5     2-(1-cyclohexenyl)ethylamine   \n",
       "\n",
       "                                            smiles    csid    mpC  \\\n",
       "key                                                                 \n",
       "1    c1ccnc(c1)Cc2ccc(cc2[N+](=O)[O-])[N+](=O)[O-]   64018   92.0   \n",
       "2                            c1ccc(c(c1)N)N2CCCCC2  403764   46.0   \n",
       "3                               c1cnc(nc1)N2CCNCC2   80080   33.0   \n",
       "4                            c1ccc(c(c1)N2CCNCC2)O   63701  125.0   \n",
       "5                                   C1CCC(=CC1)CCN   69388  -55.0   \n",
       "\n",
       "     Temperature_K  \n",
       "key                 \n",
       "1            365.0  \n",
       "2            319.0  \n",
       "3            306.0  \n",
       "4            398.0  \n",
       "5            218.0  "
      ]
     },
     "execution_count": 10,
     "metadata": {},
     "output_type": "execute_result"
    }
   ],
   "source": [
    "raw = bradley_use_df[[\"name\", \"smiles\", \"csid\", \"mpC\"]].copy()\n",
    "raw.loc[:, (\"Temperature_K\")] = raw.loc[:,(\"mpC\")] + 273\n",
    "print(f'Shape : {raw.shape}')\n",
    "raw.head(5)"
   ]
  },
  {
   "cell_type": "code",
   "execution_count": 11,
   "id": "0957c01d",
   "metadata": {},
   "outputs": [
    {
     "name": "stdout",
     "output_type": "stream",
     "text": [
      "<class 'pandas.core.frame.DataFrame'>\n",
      "Int64Index: 28268 entries, 1 to 28645\n",
      "Data columns (total 5 columns):\n",
      " #   Column         Non-Null Count  Dtype  \n",
      "---  ------         --------------  -----  \n",
      " 0   name           28268 non-null  string \n",
      " 1   smiles         28268 non-null  string \n",
      " 2   csid           28268 non-null  int64  \n",
      " 3   mpC            28268 non-null  float64\n",
      " 4   Temperature_K  28268 non-null  float64\n",
      "dtypes: float64(2), int64(1), string(2)\n",
      "memory usage: 1.3 MB\n"
     ]
    }
   ],
   "source": [
    "raw[\"name\"] = raw[\"name\"].astype(\"string\")\n",
    "raw[\"smiles\"] = raw[\"smiles\"].astype(\"string\")\n",
    "raw.info()"
   ]
  },
  {
   "cell_type": "code",
   "execution_count": 12,
   "id": "aaba5ee4",
   "metadata": {},
   "outputs": [
    {
     "data": {
      "text/plain": [
       "name             0\n",
       "smiles           0\n",
       "csid             0\n",
       "mpC              0\n",
       "Temperature_K    0\n",
       "dtype: int64"
      ]
     },
     "execution_count": 12,
     "metadata": {},
     "output_type": "execute_result"
    }
   ],
   "source": [
    "raw.isna().sum()"
   ]
  },
  {
   "cell_type": "code",
   "execution_count": null,
   "id": "0f65ea18",
   "metadata": {},
   "outputs": [],
   "source": [
    "# smiles_dict  = {} \n",
    "\n",
    "# for index, rows in bradley_use_df.iterrows():\n",
    "#     smiles_dict[index] = rows[\"smiles\"]"
   ]
  },
  {
   "cell_type": "code",
   "execution_count": null,
   "id": "0a06365a",
   "metadata": {},
   "outputs": [],
   "source": [
    "# for idx in smiles_dict:\n",
    "#     cmd = 'obabel -:\"' + smiles_dict[idx] + '\" -O ~/Thesis/bradley/' + str(idx)+ '.sdf --separate --unique --gen3D'\n",
    "#     os.system(cmd)"
   ]
  },
  {
   "cell_type": "code",
   "execution_count": 13,
   "id": "d6c79f68",
   "metadata": {},
   "outputs": [],
   "source": [
    "from rdkit import Chem\n",
    "from rdkit.Chem import AllChem"
   ]
  },
  {
   "cell_type": "code",
   "execution_count": 14,
   "id": "274c09da",
   "metadata": {},
   "outputs": [],
   "source": [
    "# User Defined Function\n",
    "\n",
    "def solve_conformer(smiles):\n",
    "    if smiles is None:\n",
    "        return None\n",
    "    else:\n",
    "        mol = Chem.MolFromSmiles(smiles)\n",
    "        molecule = Chem.AddHs(mol)\n",
    "        AllChem.EmbedMolecule(molecule, randomSeed=1234)\n",
    "\n",
    "        return molecule"
   ]
  },
  {
   "cell_type": "code",
   "execution_count": null,
   "id": "cb663a3c",
   "metadata": {},
   "outputs": [],
   "source": [
    "raw.loc[:, (\"mols\")] = raw.loc[:, (\"smiles\")].apply(lambda x: solve_conformer(x))"
   ]
  },
  {
   "cell_type": "code",
   "execution_count": null,
   "id": "0aa2ff60",
   "metadata": {},
   "outputs": [],
   "source": [
    "raw.head(5)"
   ]
  },
  {
   "cell_type": "code",
   "execution_count": null,
   "id": "d2b4ba40",
   "metadata": {},
   "outputs": [],
   "source": [
    "df1 = raw_df[[\"mols\", \"Temperature\"]]\n",
    "df1.head(5)"
   ]
  },
  {
   "cell_type": "code",
   "execution_count": null,
   "id": "35f47871",
   "metadata": {},
   "outputs": [],
   "source": [
    "some_mol = df1.loc[1, \"mols\"]\n",
    "some_mol"
   ]
  },
  {
   "cell_type": "code",
   "execution_count": null,
   "id": "446bed32",
   "metadata": {},
   "outputs": [],
   "source": [
    "some_mol2 = Chem.AddHs(some_mol)\n",
    "some_mol2"
   ]
  },
  {
   "cell_type": "code",
   "execution_count": null,
   "id": "7b8069b4",
   "metadata": {},
   "outputs": [],
   "source": [
    "AllChem.EmbedMolecule(some_mol2, randomSeed=1234)"
   ]
  },
  {
   "cell_type": "code",
   "execution_count": null,
   "id": "c78231a7",
   "metadata": {},
   "outputs": [],
   "source": [
    "AllChem.ComputeMolVolume(some_mol2)"
   ]
  },
  {
   "cell_type": "code",
   "execution_count": null,
   "id": "e3fdb820",
   "metadata": {},
   "outputs": [],
   "source": []
  },
  {
   "cell_type": "code",
   "execution_count": null,
   "id": "5c90b51d",
   "metadata": {},
   "outputs": [],
   "source": []
  },
  {
   "cell_type": "code",
   "execution_count": null,
   "id": "80472779",
   "metadata": {},
   "outputs": [],
   "source": [
    "# User-Defined Functions\n",
    "\n",
    "\n",
    "# Count of unwanted atoms\n",
    "def unwanted_count(mol):\n",
    "    molecule = Chem.RemoveAllHs(mol)\n",
    "    count = 0\n",
    "    for atom in molecule.GetAtoms():\n",
    "        if atom.GetAtomicNum() not in (6, 9, 17, 35, 53):\n",
    "            count += 1\n",
    "    return count\n",
    "\n",
    "\n",
    "# Carbon Count\n",
    "def carbon_count(mol):\n",
    "    molecule = Chem.RemoveAllHs(mol)\n",
    "    count_c = 0\n",
    "    for atom in molecule.GetAtoms():\n",
    "        if atom.GetAtomicNum() == 6:\n",
    "                count_c += 1\n",
    "                \n",
    "    return count_c\n",
    "\n",
    "\n",
    "#Hydrogen Count\n",
    "def hydrogen_count(mol):\n",
    "    molecule = Chem.RemoveAllHs(mol)\n",
    "    count = 0\n",
    "    for atom in molecule.GetAtoms():\n",
    "        if atom.GetAtomicNum() == 1:\n",
    "            count += 1\n",
    "    return count\n",
    "\n",
    "\n",
    "# Halogen Count\n",
    "def halogen_count(mol):\n",
    "    molecule = Chem.RemoveAllHs(mol)\n",
    "    count = 0\n",
    "    for atom in molecule.GetAtoms():\n",
    "        if atom.GetAtomicNum() in (9,17,35,53):\n",
    "                count += 1\n",
    "                \n",
    "    return count\n",
    "   \n",
    "# Total number of single bonds\n",
    "def single_bond_count(mol):\n",
    "    molecule = Chem.RemoveAllHs(mol)\n",
    "    count_single = 0\n",
    "    for atomic_bond in list(molecule.GetBonds()):\n",
    "        bond = str(atomic_bond.GetBondType())\n",
    "        if bond == \"SINGLE\":\n",
    "            count_single += 1\n",
    "    \n",
    "    return count_single\n",
    "\n",
    "# Total number of double bonds\n",
    "def double_bond_count(mol):\n",
    "    molecule = Chem.RemoveAllHs(mol)\n",
    "    count_double = 0\n",
    "    for atomic_bond in list(molecule.GetBonds()):\n",
    "        bond = str(atomic_bond.GetBondType())\n",
    "        if bond == \"DOUBLE\":\n",
    "            count_double += 1\n",
    "    \n",
    "    return count_double\n",
    "\n",
    "\n",
    "# Total number of triple bonds\n",
    "def triple_bond_count(mol):\n",
    "    molecule = Chem.RemoveAllHs(mol)\n",
    "    count_triple = 0\n",
    "    for atomic_bond in list(molecule.GetBonds()):\n",
    "        bond = str(atomic_bond.GetBondType())\n",
    "        if bond == \"TRIPLE\":\n",
    "            count_triple += 1\n",
    "    \n",
    "    return count_triple\n",
    "\n",
    "\n",
    "# Total number of aromatic bonds\n",
    "def aromatic_bond_count(mol):\n",
    "    molecule = Chem.RemoveAllHs(mol)\n",
    "    count_aromatic = 0\n",
    "    for atomic_bond in list(molecule.GetBonds()):\n",
    "        bond = str(atomic_bond.GetBondType())\n",
    "        if bond == \"AROMATIC\":\n",
    "            count_aromatic += 1\n",
    "    \n",
    "    return count_aromatic\n",
    "\n",
    "\n",
    "# Total number of CH3 groups            \n",
    "def group_ch3(mol):\n",
    "    molecule = Chem.AddHs(mol)\n",
    "    pattern = Chem.MolFromSmarts('[CH3]')\n",
    "    structures = molecule.GetSubstructMatches(pattern)\n",
    "    \n",
    "    return len(structures)\n",
    "\n",
    "\n",
    "# Average of Node's Degree.\n",
    "def avg_degree(mol):\n",
    "    molecule = Chem.RemoveAllHs(mol)\n",
    "    degrees = []\n",
    "    for atom in molecule.GetAtoms():\n",
    "        degrees.append(atom.GetTotalDegree())\n",
    "    \n",
    "    return sum(degrees)/len(degrees)\n",
    "    "
   ]
  },
  {
   "cell_type": "code",
   "execution_count": null,
   "id": "44d7947e",
   "metadata": {},
   "outputs": [],
   "source": [
    "print(raw_df.shape)\n",
    "df1 = df1.dropna()\n",
    "print(df1.shape)"
   ]
  },
  {
   "cell_type": "code",
   "execution_count": null,
   "id": "50e3d5ef",
   "metadata": {},
   "outputs": [],
   "source": [
    "df1[\"mols_H\"] = df1[\"mols\"].apply(Chem.AddHs)\n",
    "df1"
   ]
  },
  {
   "cell_type": "code",
   "execution_count": null,
   "id": "a7535b26",
   "metadata": {},
   "outputs": [],
   "source": [
    "some_mol = df1.loc[1, \"mols\"]\n",
    "# Chem.RemoveStereochemistry(some_mol)\n",
    "Chem.AddHs(some_mol)\n",
    "some_mol.GetAtomPosition()"
   ]
  },
  {
   "cell_type": "code",
   "execution_count": null,
   "id": "309507df",
   "metadata": {},
   "outputs": [],
   "source": [
    "AllChem.ComputeMolVolume(some_mol)"
   ]
  },
  {
   "cell_type": "code",
   "execution_count": null,
   "id": "d2d34922",
   "metadata": {},
   "outputs": [],
   "source": [
    "from rdkit.Chem.Descriptors import ExactMolWt, MolWt, HeavyAtomMolWt\n",
    "\n",
    "# df1[\"molecular_weight\"] = df1[\"mols\"].apply(MolWt)\n",
    "# df1[\"heavy_atom_molecular_weight\"] = df1[\"mols\"].apply(HeavyAtomMolWt)\n",
    "df1[\"volume\"] = df1[\"mols_H\"].apply(AllChem.ComputeMolVolume)\n",
    "df1[\"density\"] = df1[\"molecular_weight\"] / df1[\"volume\"]"
   ]
  },
  {
   "cell_type": "code",
   "execution_count": null,
   "id": "79fd3f44",
   "metadata": {},
   "outputs": [],
   "source": [
    "df1[\"carbon_count\"] = df1[\"mols\"].apply(lambda x: carbon_count(x[0]))\n",
    "df1[\"halogen_count\"] = df1[\"mols\"].apply(lambda x: halogen_count(x[0]))"
   ]
  },
  {
   "cell_type": "code",
   "execution_count": null,
   "id": "6d59134f",
   "metadata": {},
   "outputs": [],
   "source": [
    "df1[\"single_bonds\"] = df1[\"mols\"].apply(lambda x: single_bond_count(x[0]))\n",
    "df1[\"double_bonds\"] = df1[\"mols\"].apply(lambda x: double_bond_count(x[0]))\n",
    "df1[\"triple_bonds\"] = df1[\"mols\"].apply(lambda x: triple_bond_count(x[0]))\n",
    "df1[\"aromatic_bonds\"] = df1[\"mols\"].apply(lambda x: aromatic_bond_count(x[0]))\n",
    "df1[\"total_bonds\"] = df1[\"single_bonds\"] + df1[\"double_bonds\"] + df1[\"triple_bonds\"] + df1[\"aromatic_bonds\"]"
   ]
  },
  {
   "cell_type": "code",
   "execution_count": null,
   "id": "a55b6289",
   "metadata": {},
   "outputs": [],
   "source": [
    "from rdkit.Chem import Lipinski\n",
    "\n",
    "df1[\"total_rings\"] = df1[\"mols\"].apply(lambda x: Lipinski.RingCount(x[0]))\n",
    "df1[\"aliphatic_carbo_rings\"] = df1[\"mols\"].apply(lambda x: Lipinski.NumAliphaticCarbocycles(x[0]))\n",
    "df1[\"aliphatic_hetero_rings\"] = df1[\"mols\"].apply(lambda x: Lipinski.NumAliphaticHeterocycles(x[0]))\n",
    "df1[\"aromatic_carbo_rings\"] = df1[\"mols\"].apply(lambda x: Lipinski.NumAromaticCarbocycles(x[0]))\n",
    "df1[\"aromatic_hetero_rings\"] = df1[\"mols\"].apply(lambda x: Lipinski.NumAromaticHeterocycles(x[0]))"
   ]
  },
  {
   "cell_type": "code",
   "execution_count": null,
   "id": "a4f589ec",
   "metadata": {},
   "outputs": [],
   "source": [
    "from rdkit.Chem.Descriptors3D import Asphericity, Eccentricity, SpherocityIndex, RadiusOfGyration\n",
    "from rdkit.Chem.GraphDescriptors import BalabanJ\n",
    "\n",
    "df1[\"asphericity\"] = df1[\"mols\"].apply(lambda x: Asphericity(x[0]))\n",
    "df1[\"ecentricity\"] = df1[\"mols\"].apply(lambda x: Eccentricity(x[0]))\n",
    "df1[\"spherocity_index\"] = df1[\"mols\"].apply(lambda x: SpherocityIndex(x[0]))\n",
    "df1[\"BalabanJ\"] = df1[\"mols\"].apply(lambda x: BalabanJ(x[0]))\n",
    "df1[\"labuteASA\"] = df1[\"mols\"].apply(lambda x: Chem.MolSurf.LabuteASA(x[0]))"
   ]
  },
  {
   "cell_type": "code",
   "execution_count": null,
   "id": "d85cd55b",
   "metadata": {},
   "outputs": [],
   "source": [
    "df1[\"group_CH3\"] = df1[\"mols\"].apply(lambda x: group_ch3(x[0]))"
   ]
  },
  {
   "cell_type": "code",
   "execution_count": null,
   "id": "d0a76efb",
   "metadata": {},
   "outputs": [],
   "source": [
    "df1[\"HAcceptors\"] = df1[\"mols\"].apply(lambda x: Lipinski.NumHAcceptors(x[0]))\n",
    "df1[\"HDonors\"] = df1[\"mols\"].apply(lambda x: Lipinski.NumHDonors(x[0]))"
   ]
  },
  {
   "cell_type": "code",
   "execution_count": null,
   "id": "ea51c62e",
   "metadata": {},
   "outputs": [],
   "source": [
    "df1[\"sp3fraction\"] = df1[\"mols\"].apply(lambda x: Lipinski.FractionCSP3(x[0]))"
   ]
  },
  {
   "cell_type": "code",
   "execution_count": null,
   "id": "af8d03b7",
   "metadata": {},
   "outputs": [],
   "source": [
    "from rdkit.Chem.Descriptors import NumRadicalElectrons, NumValenceElectrons\n",
    "\n",
    "df1[\"radical_electrons\"] = df1[\"mols\"].apply(lambda x: NumRadicalElectrons(x[0]))\n",
    "df1[\"Mol_fragments\"] = df1[\"mols\"].apply(lambda x: len(Chem.GetMolFrags(x[0])))\n",
    "df1[\"Total_mols\"] = df1[\"mols\"].apply(lambda x: len(x))\n",
    "df1[\"unwanted_count\"] = df1[\"mols\"].apply(lambda x: unwanted_count(x[0]))\n",
    "df1[\"hydrogen_count\"] = df1[\"mols\"].apply(lambda x: hydrogen_count(x[0]))"
   ]
  }
 ],
 "metadata": {
  "kernelspec": {
   "display_name": "Python 3 (ipykernel)",
   "language": "python",
   "name": "python3"
  },
  "language_info": {
   "codemirror_mode": {
    "name": "ipython",
    "version": 3
   },
   "file_extension": ".py",
   "mimetype": "text/x-python",
   "name": "python",
   "nbconvert_exporter": "python",
   "pygments_lexer": "ipython3",
   "version": "3.10.9"
  }
 },
 "nbformat": 4,
 "nbformat_minor": 5
}
